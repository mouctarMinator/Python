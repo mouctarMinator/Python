{
 "cells": [
  {
   "cell_type": "code",
   "execution_count": 38,
   "id": "b6868d78-918d-443e-94c5-9a990cc750bd",
   "metadata": {},
   "outputs": [
    {
     "name": "stdout",
     "output_type": "stream",
     "text": [
      "0.7777777777777778\n",
      "    age  gender\n",
      "2    25       1\n",
      "8    37       1\n",
      "12   26       0\n",
      "3    26       1\n",
      "16   34       0\n",
      "11   25       0\n",
      "15   31       0\n",
      "1    23       1\n",
      "9    20       0 ['Jazz' 'Classical' 'Acoustic' 'Jazz' 'Classical' 'Acoustic' 'Classical'\n",
      " 'HipHop' 'Dance'] Hello\n"
     ]
    }
   ],
   "source": [
    "import pandas as pd\n",
    "from sklearn.tree import DecisionTreeClassifier\n",
    "from sklearn.model_selection import train_test_split\n",
    "from sklearn.metrics import accuracy_score\n",
    "\n",
    "# Read the data from the CSV file into a pandas DataFrame\n",
    "music_data = pd.read_csv('music.csv')\n",
    "\n",
    "# Separate the features (X) and the target variable (y)\n",
    "X = music_data.drop(columns=['genre'])\n",
    "y = music_data['genre']\n",
    "\n",
    "X_train, X_test, y_train, y_test = train_test_split(X, y, test_size=0.5)\n",
    "\n",
    "# Create the DecisionTreeClassifier model\n",
    "model = DecisionTreeClassifier()\n",
    "\n",
    "# Train the model using the fit method\n",
    "model.fit(X_train, y_train)\n",
    "\n",
    "# Make predictions for new data points\n",
    "predictions = model.predict(X_test)\n",
    "\n",
    "score = accuracy_score(y_test, predictions)\n",
    "print(score)\n",
    "print(X_test, predictions)"
   ]
  },
  {
   "cell_type": "code",
   "execution_count": 43,
   "id": "5de8295f-6498-48ab-8f41-d8f2e7b84fe3",
   "metadata": {},
   "outputs": [
    {
     "name": "stdout",
     "output_type": "stream",
     "text": [
      "['HipHop']\n"
     ]
    },
    {
     "name": "stderr",
     "output_type": "stream",
     "text": [
      "C:\\Python311\\Lib\\site-packages\\sklearn\\base.py:464: UserWarning: X does not have valid feature names, but DecisionTreeClassifier was fitted with feature names\n",
      "  warnings.warn(\n"
     ]
    }
   ],
   "source": [
    "import pandas as pd\n",
    "from sklearn.tree import DecisionTreeClassifier\n",
    "import joblib\n",
    "\n",
    "# music_data = pd.read_csv('music.csv')\n",
    "# X = music_data.drop(columns=['genre'])\n",
    "# y = music_data['genre']\n",
    "\n",
    "# model = DecisionTreeClassifier()\n",
    "# model.fit(X_train, y_train)\n",
    "\n",
    "model = joblib.load('music-recommended.joblib')\n",
    "\n",
    "predictions = model.predict([[21, 1]])\n",
    "print(predictions)"
   ]
  }
 ],
 "metadata": {
  "kernelspec": {
   "display_name": "Python 3 (ipykernel)",
   "language": "python",
   "name": "python3"
  },
  "language_info": {
   "codemirror_mode": {
    "name": "ipython",
    "version": 3
   },
   "file_extension": ".py",
   "mimetype": "text/x-python",
   "name": "python",
   "nbconvert_exporter": "python",
   "pygments_lexer": "ipython3",
   "version": "3.11.3"
  }
 },
 "nbformat": 4,
 "nbformat_minor": 5
}
